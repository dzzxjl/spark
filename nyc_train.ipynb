{
 "cells": [
  {
   "cell_type": "code",
   "execution_count": 1,
   "metadata": {
    "collapsed": true
   },
   "outputs": [],
   "source": [
    "# Spark\n",
    "import pyspark\n",
    "# from pyspark import SparkConf,SparkContext\n",
    "# try:\n",
    "#     sc.stop()\n",
    "# except:\n",
    "#     pass\n",
    "# conf = SparkConf().setMaster('local[2]').setAppName('MyApp')\n",
    "# sc = SparkContext(conf=conf).getOrCreate()\n",
    "# # Visaulization\n",
    "import matplotlib.pyplot as plt\n",
    "import seaborn as sns"
   ]
  },
  {
   "cell_type": "code",
   "execution_count": 2,
   "metadata": {},
   "outputs": [
    {
     "data": {
      "text/html": [
       "\n",
       "        <div>\n",
       "            <p><b>SparkContext</b></p>\n",
       "\n",
       "            <p><a href=\"http://10.164.22.7:4040\">Spark UI</a></p>\n",
       "\n",
       "            <dl>\n",
       "              <dt>Version</dt>\n",
       "                <dd><code>v2.2.0</code></dd>\n",
       "              <dt>Master</dt>\n",
       "                <dd><code>local[*]</code></dd>\n",
       "              <dt>AppName</dt>\n",
       "                <dd><code>PySparkShell</code></dd>\n",
       "            </dl>\n",
       "        </div>\n",
       "        "
      ],
      "text/plain": [
       "<SparkContext master=local[*] appName=PySparkShell>"
      ]
     },
     "execution_count": 2,
     "metadata": {},
     "output_type": "execute_result"
    }
   ],
   "source": [
    "sc"
   ]
  },
  {
   "cell_type": "code",
   "execution_count": 3,
   "metadata": {},
   "outputs": [],
   "source": [
    "# 原始读取数据方法\n",
    "data = sc.textFile('/Users/dzzxjl/data/NYC/train.csv')\n",
    "data.take(5)"
   ]
  },
  {
   "cell_type": "code",
   "execution_count": 13,
   "metadata": {
    "collapsed": true
   },
   "outputs": [],
   "source": [
    "# 因为数据组织呈结构化，将数据读取成DataFrame\n",
    "df = spark.read.format(\"csv\").option(\"header\",\"true\").csv('/Users/dzzxjl/data/NYC/train.csv')"
   ]
  },
  {
   "cell_type": "code",
   "execution_count": 84,
   "metadata": {},
   "outputs": [
    {
     "name": "stdout",
     "output_type": "stream",
     "text": [
      "+---------+---------+-------------------+-------------------+---------------+-------------------+------------------+-------------------+------------------+------------------+-------------+\n",
      "|       id|vendor_id|    pickup_datetime|   dropoff_datetime|passenger_count|   pickup_longitude|   pickup_latitude|  dropoff_longitude|  dropoff_latitude|store_and_fwd_flag|trip_duration|\n",
      "+---------+---------+-------------------+-------------------+---------------+-------------------+------------------+-------------------+------------------+------------------+-------------+\n",
      "|id2875421|        2|2016-03-14 17:24:55|2016-03-14 17:32:30|              1|-73.982154846191406|40.767936706542969|-73.964630126953125|40.765602111816406|                 N|          455|\n",
      "|id2377394|        1|2016-06-12 00:43:35|2016-06-12 00:54:38|              1|-73.980415344238281|40.738563537597656|-73.999481201171875|40.731151580810547|                 N|          663|\n",
      "|id3858529|        2|2016-01-19 11:35:24|2016-01-19 12:10:48|              1|-73.979026794433594|40.763938903808594|-74.005332946777344|40.710086822509766|                 N|         2124|\n",
      "|id3504673|        2|2016-04-06 19:32:31|2016-04-06 19:39:40|              1|-74.010040283203125|   40.719970703125| -74.01226806640625|40.706718444824219|                 N|          429|\n",
      "|id2181028|        2|2016-03-26 13:30:55|2016-03-26 13:38:10|              1|-73.973052978515625|40.793209075927734|-73.972923278808594|40.782520294189453|                 N|          435|\n",
      "+---------+---------+-------------------+-------------------+---------------+-------------------+------------------+-------------------+------------------+------------------+-------------+\n",
      "only showing top 5 rows\n",
      "\n"
     ]
    },
    {
     "data": {
      "text/plain": [
       "[Row(id='id2875421', vendor_id='2', pickup_datetime='2016-03-14 17:24:55', dropoff_datetime='2016-03-14 17:32:30', passenger_count='1', pickup_longitude='-73.982154846191406', pickup_latitude='40.767936706542969', dropoff_longitude='-73.964630126953125', dropoff_latitude='40.765602111816406', store_and_fwd_flag='N', trip_duration='455'),\n",
       " Row(id='id2377394', vendor_id='1', pickup_datetime='2016-06-12 00:43:35', dropoff_datetime='2016-06-12 00:54:38', passenger_count='1', pickup_longitude='-73.980415344238281', pickup_latitude='40.738563537597656', dropoff_longitude='-73.999481201171875', dropoff_latitude='40.731151580810547', store_and_fwd_flag='N', trip_duration='663'),\n",
       " Row(id='id3858529', vendor_id='2', pickup_datetime='2016-01-19 11:35:24', dropoff_datetime='2016-01-19 12:10:48', passenger_count='1', pickup_longitude='-73.979026794433594', pickup_latitude='40.763938903808594', dropoff_longitude='-74.005332946777344', dropoff_latitude='40.710086822509766', store_and_fwd_flag='N', trip_duration='2124'),\n",
       " Row(id='id3504673', vendor_id='2', pickup_datetime='2016-04-06 19:32:31', dropoff_datetime='2016-04-06 19:39:40', passenger_count='1', pickup_longitude='-74.010040283203125', pickup_latitude='40.719970703125', dropoff_longitude='-74.01226806640625', dropoff_latitude='40.706718444824219', store_and_fwd_flag='N', trip_duration='429'),\n",
       " Row(id='id2181028', vendor_id='2', pickup_datetime='2016-03-26 13:30:55', dropoff_datetime='2016-03-26 13:38:10', passenger_count='1', pickup_longitude='-73.973052978515625', pickup_latitude='40.793209075927734', dropoff_longitude='-73.972923278808594', dropoff_latitude='40.782520294189453', store_and_fwd_flag='N', trip_duration='435')]"
      ]
     },
     "execution_count": 84,
     "metadata": {},
     "output_type": "execute_result"
    }
   ],
   "source": [
    "# 显示top5数据\n",
    "# 仅以视图形式返回\n",
    "df.show(5)\n",
    "# 以row结构返回\n",
    "df.head(5)"
   ]
  },
  {
   "cell_type": "code",
   "execution_count": 92,
   "metadata": {},
   "outputs": [
    {
     "name": "stdout",
     "output_type": "stream",
     "text": [
      "+-------+---------+------------------+-------------------+-------------------+------------------+-------------------+-------------------+-------------------+-------------------+------------------+-----------------+\n",
      "|summary|       id|         vendor_id|    pickup_datetime|   dropoff_datetime|   passenger_count|   pickup_longitude|    pickup_latitude|  dropoff_longitude|   dropoff_latitude|store_and_fwd_flag|    trip_duration|\n",
      "+-------+---------+------------------+-------------------+-------------------+------------------+-------------------+-------------------+-------------------+-------------------+------------------+-----------------+\n",
      "|  count|  1458644|           1458644|            1458644|            1458644|           1458644|            1458644|            1458644|            1458644|            1458644|           1458644|          1458644|\n",
      "|   mean|     null|1.5349502688798637|               null|               null|1.6645295219395548| -73.97348630489282| 40.750920908391734|  -73.9734159469458|   40.7517995149002|              null|959.4922729603659|\n",
      "| stddev|     null|0.4987771539074017|               null|               null|  1.31424216782312| 0.0709018584227037|0.03288118625763338| 0.0706432680972028|0.03589055560563534|              null|5237.431724497609|\n",
      "|    min|id0000001|                 1|2016-01-01 00:00:17|2016-01-01 00:03:31|                 0|-121.93323516845703| 34.359695434570312|-121.93320465087891| 32.181140899658203|                 N|                1|\n",
      "|    max|id4000000|                 2|2016-06-30 23:59:39|2016-07-01 23:02:03|                 9|-79.569732666015625| 51.881084442138672|-80.355430603027344| 43.921028137207031|                 Y|              999|\n",
      "+-------+---------+------------------+-------------------+-------------------+------------------+-------------------+-------------------+-------------------+-------------------+------------------+-----------------+\n",
      "\n"
     ]
    }
   ],
   "source": [
    "# 描述数据统计信息\n",
    "df.describe().show()"
   ]
  },
  {
   "cell_type": "code",
   "execution_count": 43,
   "metadata": {},
   "outputs": [
    {
     "data": {
      "text/plain": [
       "1458644"
      ]
     },
     "execution_count": 43,
     "metadata": {},
     "output_type": "execute_result"
    }
   ],
   "source": [
    "# 显示数目总数\n",
    "df.count()"
   ]
  },
  {
   "cell_type": "code",
   "execution_count": 44,
   "metadata": {},
   "outputs": [
    {
     "name": "stdout",
     "output_type": "stream",
     "text": [
      "root\n",
      " |-- id: string (nullable = true)\n",
      " |-- vendor_id: string (nullable = true)\n",
      " |-- pickup_datetime: string (nullable = true)\n",
      " |-- dropoff_datetime: string (nullable = true)\n",
      " |-- passenger_count: string (nullable = true)\n",
      " |-- pickup_longitude: string (nullable = true)\n",
      " |-- pickup_latitude: string (nullable = true)\n",
      " |-- dropoff_longitude: string (nullable = true)\n",
      " |-- dropoff_latitude: string (nullable = true)\n",
      " |-- store_and_fwd_flag: string (nullable = true)\n",
      " |-- trip_duration: string (nullable = true)\n",
      "\n"
     ]
    }
   ],
   "source": [
    "# 输出表模式\n",
    "df.printSchema()"
   ]
  },
  {
   "cell_type": "code",
   "execution_count": 25,
   "metadata": {},
   "outputs": [
    {
     "name": "stdout",
     "output_type": "stream",
     "text": [
      "+---------+------+\n",
      "|vendor_id| count|\n",
      "+---------+------+\n",
      "|        1|678342|\n",
      "|        2|780302|\n",
      "+---------+------+\n",
      "\n"
     ]
    }
   ],
   "source": [
    "# 数据提供商\n",
    "df.groupBy(\"vendor_id\").count().show()"
   ]
  },
  {
   "cell_type": "code",
   "execution_count": 45,
   "metadata": {
    "scrolled": true
   },
   "outputs": [
    {
     "name": "stdout",
     "output_type": "stream",
     "text": [
      "+---------+-------------------+\n",
      "|       id|    pickup_datetime|\n",
      "+---------+-------------------+\n",
      "|id2875421|2016-03-14 17:24:55|\n",
      "|id2377394|2016-06-12 00:43:35|\n",
      "|id3858529|2016-01-19 11:35:24|\n",
      "|id3504673|2016-04-06 19:32:31|\n",
      "|id2181028|2016-03-26 13:30:55|\n",
      "+---------+-------------------+\n",
      "only showing top 5 rows\n",
      "\n"
     ]
    }
   ],
   "source": [
    "# 使用select选择数据\n",
    "df.select(['id', 'pickup_datetime']).show(n=5)\n",
    "# 使用filter\n",
    "df.filter(df['trip_duration'] > 500).show(n=5)"
   ]
  },
  {
   "cell_type": "code",
   "execution_count": 79,
   "metadata": {},
   "outputs": [
    {
     "data": {
      "image/png": "[encoded data removed]",
      "text/plain": [
       "<matplotlib.figure.Figure at 0x1279a54e0>"
      ]
     },
     "metadata": {},
     "output_type": "display_data"
    },
    {
     "name": "stdout",
     "output_type": "stream",
     "text": [
      "[(4, 251645), (1, 229707), (5, 248487), (6, 234316), (2, 238300), (3, 256189)]\n"
     ]
    }
   ],
   "source": [
    "pickup_datetime = df.select(['pickup_datetime'])\n",
    "temp = pickup_datetime.rdd.map(lambda x: x['pickup_datetime']).map(lambda x: int(x.split(' ')[0].split('-')[1])).map(lambda x: (x, 1))\n",
    "list = temp.reduceByKey(lambda x, y: x + y).collect()\n",
    "month = []\n",
    "count_by_month = []\n",
    "for x in list:\n",
    "    month.append(x[0])\n",
    "    count_by_month.append(x[1])\n",
    "\n",
    "\n",
    "fig, ax = plt.subplots()\n",
    "ax.bar(month, count_by_month)\n",
    "plt.show()\n",
    "# temp[0]['pickup_datetime']\n",
    "# for x in temp:\n",
    "#     print(x)\n",
    "\n",
    "# df.withColumn('month', df. + 2)[].collect()\n",
    "print(list)"
   ]
  },
  {
   "cell_type": "code",
   "execution_count": 80,
   "metadata": {},
   "outputs": [
    {
     "data": {
      "image/png": "[encoded data removed]",
      "text/plain": [
       "<matplotlib.figure.Figure at 0x127ed8748>"
      ]
     },
     "metadata": {},
     "output_type": "display_data"
    },
    {
     "name": "stdout",
     "output_type": "stream",
     "text": [
      "[(12, 50080), (16, 51027), (28, 45891), (20, 49198), (24, 43876), (4, 49655), (8, 48248), (17, 48968), (21, 48306), (1, 46612), (5, 50176), (9, 49634), (25, 46450), (13, 49293), (29, 46807), (14, 50488), (6, 49476), (26, 47595), (30, 39135), (10, 48867), (18, 47925), (2, 47752), (22, 47254), (19, 49265), (27, 46957), (15, 49791), (11, 48864), (3, 47945), (23, 41450), (7, 48671), (31, 22988)]\n"
     ]
    }
   ],
   "source": [
    "pickup_datetime = df.select(['pickup_datetime'])\n",
    "temp = pickup_datetime.rdd.map(lambda x: x['pickup_datetime']).map(lambda x: int(x.split(' ')[0].split('-')[2])).map(lambda x: (x, 1))\n",
    "list = temp.reduceByKey(lambda x, y: x + y).collect()\n",
    "month = []\n",
    "count_by_month = []\n",
    "for x in list:\n",
    "    month.append(x[0])\n",
    "    count_by_month.append(x[1])\n",
    "\n",
    "\n",
    "fig, ax = plt.subplots()\n",
    "ax.bar(month, count_by_month)\n",
    "plt.show()\n",
    "# temp[0]['pickup_datetime']\n",
    "# for x in temp:\n",
    "#     print(x)\n",
    "\n",
    "# df.withColumn('month', df. + 2)[].collect()\n",
    "print(list)"
   ]
  },
  {
   "cell_type": "code",
   "execution_count": 19,
   "metadata": {
    "collapsed": true
   },
   "outputs": [],
   "source": [
    "# 我们也可以把DataFrame对象转化为一个虚拟的表，然后用SQL语句查询\n",
    "df.registerTempTable('data')\n",
    "pickup_datetime = sqlContext.sql('select id, pickup_datetime from data limit 10')"
   ]
  },
  {
   "cell_type": "code",
   "execution_count": 85,
   "metadata": {},
   "outputs": [
    {
     "data": {
      "text/plain": [
       "1458644"
      ]
     },
     "execution_count": 85,
     "metadata": {},
     "output_type": "execute_result"
    }
   ],
   "source": [
    "df.count()"
   ]
  },
  {
   "cell_type": "code",
   "execution_count": 86,
   "metadata": {},
   "outputs": [
    {
     "data": {
      "text/plain": [
       "[Row(id='id2875421', vendor_id='2', pickup_datetime='2016-03-14 17:24:55', dropoff_datetime='2016-03-14 17:32:30', passenger_count='1', pickup_longitude='-73.982154846191406', pickup_latitude='40.767936706542969', dropoff_longitude='-73.964630126953125', dropoff_latitude='40.765602111816406', store_and_fwd_flag='N', trip_duration='455'),\n",
       " Row(id='id2377394', vendor_id='1', pickup_datetime='2016-06-12 00:43:35', dropoff_datetime='2016-06-12 00:54:38', passenger_count='1', pickup_longitude='-73.980415344238281', pickup_latitude='40.738563537597656', dropoff_longitude='-73.999481201171875', dropoff_latitude='40.731151580810547', store_and_fwd_flag='N', trip_duration='663'),\n",
       " Row(id='id3858529', vendor_id='2', pickup_datetime='2016-01-19 11:35:24', dropoff_datetime='2016-01-19 12:10:48', passenger_count='1', pickup_longitude='-73.979026794433594', pickup_latitude='40.763938903808594', dropoff_longitude='-74.005332946777344', dropoff_latitude='40.710086822509766', store_and_fwd_flag='N', trip_duration='2124'),\n",
       " Row(id='id3504673', vendor_id='2', pickup_datetime='2016-04-06 19:32:31', dropoff_datetime='2016-04-06 19:39:40', passenger_count='1', pickup_longitude='-74.010040283203125', pickup_latitude='40.719970703125', dropoff_longitude='-74.01226806640625', dropoff_latitude='40.706718444824219', store_and_fwd_flag='N', trip_duration='429'),\n",
       " Row(id='id2181028', vendor_id='2', pickup_datetime='2016-03-26 13:30:55', dropoff_datetime='2016-03-26 13:38:10', passenger_count='1', pickup_longitude='-73.973052978515625', pickup_latitude='40.793209075927734', dropoff_longitude='-73.972923278808594', dropoff_latitude='40.782520294189453', store_and_fwd_flag='N', trip_duration='435')]"
      ]
     },
     "execution_count": 86,
     "metadata": {},
     "output_type": "execute_result"
    }
   ],
   "source": [
    "df.head(5)"
   ]
  },
  {
   "cell_type": "code",
   "execution_count": 91,
   "metadata": {},
   "outputs": [
    {
     "ename": "TypeError",
     "evalue": "'Column' object is not callable",
     "output_type": "error",
     "traceback": [
      "\u001b[0;31m---------------------------------------------------------------------------\u001b[0m",
      "\u001b[0;31mTypeError\u001b[0m                                 Traceback (most recent call last)",
      "\u001b[0;32m<ipython-input-91-0b5b195cbae9>\u001b[0m in \u001b[0;36m<module>\u001b[0;34m()\u001b[0m\n\u001b[0;32m----> 1\u001b[0;31m \u001b[0mdf\u001b[0m\u001b[0;34m[\u001b[0m\u001b[0;34m'trip_duration'\u001b[0m\u001b[0;34m]\u001b[0m\u001b[0;34m.\u001b[0m\u001b[0mdesc\u001b[0m\u001b[0;34m(\u001b[0m\u001b[0;34m)\u001b[0m\u001b[0;34m.\u001b[0m\u001b[0mshow\u001b[0m\u001b[0;34m(\u001b[0m\u001b[0;34m)\u001b[0m\u001b[0;34m\u001b[0m\u001b[0m\n\u001b[0m",
      "\u001b[0;31mTypeError\u001b[0m: 'Column' object is not callable"
     ]
    }
   ],
   "source": [
    "df['trip_duration'].desc().show()"
   ]
  },
  {
   "cell_type": "code",
   "execution_count": null,
   "metadata": {
    "collapsed": true
   },
   "outputs": [],
   "source": []
  }
 ],
 "metadata": {
  "kernelspec": {
   "display_name": "Python 3",
   "language": "python",
   "name": "python3"
  },
  "language_info": {
   "codemirror_mode": {
    "name": "ipython",
    "version": 3
   },
   "file_extension": ".py",
   "mimetype": "text/x-python",
   "name": "python",
   "nbconvert_exporter": "python",
   "pygments_lexer": "ipython3",
   "version": "3.6.1"
  }
 },
 "nbformat": 4,
 "nbformat_minor": 2
}
