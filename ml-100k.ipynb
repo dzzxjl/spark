{
 "cells": [
  {
   "cell_type": "code",
   "execution_count": 1,
   "metadata": {
    "collapsed": true
   },
   "outputs": [],
   "source": [
    "# Spark\n",
    "import pyspark\n",
    "\n",
    "# Visaulization\n",
    "import matplotlib.pyplot as plt\n",
    "import seaborn as sns"
   ]
  },
  {
   "cell_type": "code",
   "execution_count": 2,
   "metadata": {},
   "outputs": [
    {
     "data": {
      "text/html": [
       "\n",
       "        <div>\n",
       "            <p><b>SparkContext</b></p>\n",
       "\n",
       "            <p><a href=\"http://192.168.0.107:4040\">Spark UI</a></p>\n",
       "\n",
       "            <dl>\n",
       "              <dt>Version</dt>\n",
       "                <dd><code>v2.2.0</code></dd>\n",
       "              <dt>Master</dt>\n",
       "                <dd><code>local[*]</code></dd>\n",
       "              <dt>AppName</dt>\n",
       "                <dd><code>PySparkShell</code></dd>\n",
       "            </dl>\n",
       "        </div>\n",
       "        "
      ],
      "text/plain": [
       "<SparkContext master=local[*] appName=PySparkShell>"
      ]
     },
     "execution_count": 2,
     "metadata": {},
     "output_type": "execute_result"
    }
   ],
   "source": [
    "sc"
   ]
  },
  {
   "cell_type": "code",
   "execution_count": 3,
   "metadata": {},
   "outputs": [
    {
     "name": "stdout",
     "output_type": "stream",
     "text": [
      "README\n",
      "allbut.pl\n",
      "mku.sh\n",
      "u.data\n",
      "u.genre\n",
      "u.info\n",
      "u.item\n",
      "u.occupation\n",
      "u.user\n",
      "u1.base\n",
      "u1.test\n",
      "u2.base\n",
      "u2.test\n",
      "u3.base\n",
      "u3.test\n",
      "u4.base\n",
      "u4.test\n",
      "u5.base\n",
      "u5.test\n",
      "ua.base\n",
      "ua.test\n",
      "ub.base\n",
      "ub.test\n",
      "\n"
     ]
    }
   ],
   "source": [
    "from subprocess import check_output\n",
    "print(check_output([\"ls\", \"/Users/dzzxjl/data/ml-100k/\"]).decode(\"utf8\"))"
   ]
  },
  {
   "cell_type": "code",
   "execution_count": 4,
   "metadata": {
    "collapsed": true
   },
   "outputs": [],
   "source": [
    "user_data = sc.textFile('/Users/dzzxjl/data/ml-100k/u.user')"
   ]
  },
  {
   "cell_type": "code",
   "execution_count": 5,
   "metadata": {},
   "outputs": [
    {
     "data": {
      "text/plain": [
       "['9|29|M|student|01002',\n",
       " '99|20|M|student|63129',\n",
       " '98|49|F|executive|90291',\n",
       " '97|43|M|artist|98006',\n",
       " '96|25|F|artist|75206']"
      ]
     },
     "execution_count": 5,
     "metadata": {},
     "output_type": "execute_result"
    }
   ],
   "source": [
    "# 查看文件内部信息\n",
    "user_data.top(5)"
   ]
  },
  {
   "cell_type": "code",
   "execution_count": 6,
   "metadata": {},
   "outputs": [
    {
     "data": {
      "text/plain": [
       "943"
      ]
     },
     "execution_count": 6,
     "metadata": {},
     "output_type": "execute_result"
    }
   ],
   "source": [
    "# 查看用户数量\n",
    "user_data.count()"
   ]
  },
  {
   "cell_type": "code",
   "execution_count": 6,
   "metadata": {},
   "outputs": [],
   "source": [
    "# 使用\"|\"进行分割\n",
    "user_fields = user_data.map(lambda line: line.split('|'))\n",
    "# user_fields"
   ]
  },
  {
   "cell_type": "code",
   "execution_count": 7,
   "metadata": {},
   "outputs": [],
   "source": [
    "# Age average\n",
    "age_list = user_fields.map(lambda x: x[1]).collect()\n",
    "age_list_int = []\n",
    "for x in age_list:\n",
    "    x = int(x)\n",
    "    age_list_int.append(x)"
   ]
  },
  {
   "cell_type": "code",
   "execution_count": 8,
   "metadata": {},
   "outputs": [
    {
     "data": {
      "text/plain": [
       "[['99', '20', 'M', 'student', '63129'],\n",
       " ['98', '49', 'F', 'executive', '90291'],\n",
       " ['97', '43', 'M', 'artist', '98006'],\n",
       " ['96', '25', 'F', 'artist', '75206'],\n",
       " ['95', '31', 'M', 'administrator', '10707']]"
      ]
     },
     "execution_count": 8,
     "metadata": {},
     "output_type": "execute_result"
    }
   ],
   "source": [
    "user_fields.top(5)"
   ]
  },
  {
   "cell_type": "code",
   "execution_count": 9,
   "metadata": {},
   "outputs": [
    {
     "name": "stdout",
     "output_type": "stream",
     "text": [
      "Users: 943, genders: 2, occupations: 21, ZIP codes: 795\n"
     ]
    }
   ],
   "source": [
    "num_users = user_fields.map(lambda fields: fields[0]).count()\n",
    "num_genders = user_fields.map(lambda fields: fields[2]).distinct().count()\n",
    "num_occupations = user_fields.map(lambda fields: fields[3]).distinct().count()\n",
    "num_zipcodes = user_fields.map(lambda fields: fields[4]).distinct().count()\n",
    "print(\"Users: %d, genders: %d, occupations: %d, ZIP codes: %d\" % (num_users, num_genders, num_occupations, num_zipcodes))"
   ]
  },
  {
   "cell_type": "code",
   "execution_count": 10,
   "metadata": {},
   "outputs": [
    {
     "name": "stdout",
     "output_type": "stream",
     "text": [
      "Populating the interactive namespace from numpy and matplotlib\n"
     ]
    }
   ],
   "source": [
    "%pylab inline"
   ]
  },
  {
   "cell_type": "code",
   "execution_count": 11,
   "metadata": {
    "collapsed": true
   },
   "outputs": [],
   "source": [
    "ages = user_fields.map(lambda x: int(x[1])).collect()"
   ]
  },
  {
   "cell_type": "code",
   "execution_count": 12,
   "metadata": {},
   "outputs": [
    {
     "data": {
      "text/plain": [
       "<matplotlib.axes._subplots.AxesSubplot at 0x11642c2b0>"
      ]
     },
     "execution_count": 12,
     "metadata": {},
     "output_type": "execute_result"
    },
    {
     "data": {
      "image/png": "[encoded data removed]",
      "text/plain": [
       "<matplotlib.figure.Figure at 0x116432320>"
      ]
     },
     "metadata": {},
     "output_type": "display_data"
    }
   ],
   "source": [
    "sns.distplot(ages)"
   ]
  },
  {
   "cell_type": "code",
   "execution_count": 13,
   "metadata": {},
   "outputs": [
    {
     "data": {
      "text/plain": [
       "[('technician', 1),\n",
       " ('other', 1),\n",
       " ('writer', 1),\n",
       " ('technician', 1),\n",
       " ('other', 1),\n",
       " ('executive', 1),\n",
       " ('administrator', 1),\n",
       " ('administrator', 1),\n",
       " ('student', 1),\n",
       " ('lawyer', 1),\n",
       " ('other', 1),\n",
       " ('other', 1),\n",
       " ('educator', 1),\n",
       " ('scientist', 1),\n",
       " ('educator', 1),\n",
       " ('entertainment', 1),\n",
       " ('programmer', 1),\n",
       " ('other', 1),\n",
       " ('librarian', 1),\n",
       " ('homemaker', 1),\n",
       " ('writer', 1),\n",
       " ('writer', 1),\n",
       " ('artist', 1),\n",
       " ('artist', 1),\n",
       " ('engineer', 1),\n",
       " ('engineer', 1),\n",
       " ('librarian', 1),\n",
       " ('writer', 1),\n",
       " ('programmer', 1),\n",
       " ('student', 1),\n",
       " ('artist', 1),\n",
       " ('student', 1),\n",
       " ('student', 1),\n",
       " ('administrator', 1),\n",
       " ('homemaker', 1),\n",
       " ('student', 1),\n",
       " ('student', 1),\n",
       " ('other', 1),\n",
       " ('entertainment', 1),\n",
       " ('scientist', 1),\n",
       " ('engineer', 1),\n",
       " ('administrator', 1),\n",
       " ('librarian', 1),\n",
       " ('technician', 1),\n",
       " ('programmer', 1),\n",
       " ('marketing', 1),\n",
       " ('marketing', 1),\n",
       " ('administrator', 1),\n",
       " ('student', 1),\n",
       " ('writer', 1),\n",
       " ('educator', 1),\n",
       " ('student', 1),\n",
       " ('programmer', 1),\n",
       " ('executive', 1),\n",
       " ('programmer', 1),\n",
       " ('librarian', 1),\n",
       " ('none', 1),\n",
       " ('programmer', 1),\n",
       " ('educator', 1),\n",
       " ('healthcare', 1),\n",
       " ('engineer', 1),\n",
       " ('administrator', 1),\n",
       " ('marketing', 1),\n",
       " ('educator', 1),\n",
       " ('educator', 1),\n",
       " ('student', 1),\n",
       " ('student', 1),\n",
       " ('student', 1),\n",
       " ('engineer', 1),\n",
       " ('engineer', 1),\n",
       " ('scientist', 1),\n",
       " ('administrator', 1),\n",
       " ('student', 1),\n",
       " ('scientist', 1),\n",
       " ('entertainment', 1),\n",
       " ('student', 1),\n",
       " ('technician', 1),\n",
       " ('administrator', 1),\n",
       " ('administrator', 1),\n",
       " ('administrator', 1),\n",
       " ('student', 1),\n",
       " ('programmer', 1),\n",
       " ('other', 1),\n",
       " ('executive', 1),\n",
       " ('educator', 1),\n",
       " ('administrator', 1),\n",
       " ('administrator', 1),\n",
       " ('librarian', 1),\n",
       " ('administrator', 1),\n",
       " ('educator', 1),\n",
       " ('marketing', 1),\n",
       " ('entertainment', 1),\n",
       " ('executive', 1),\n",
       " ('student', 1),\n",
       " ('administrator', 1),\n",
       " ('artist', 1),\n",
       " ('artist', 1),\n",
       " ('executive', 1),\n",
       " ('student', 1),\n",
       " ('executive', 1),\n",
       " ('student', 1),\n",
       " ('programmer', 1),\n",
       " ('student', 1),\n",
       " ('student', 1),\n",
       " ('engineer', 1),\n",
       " ('retired', 1),\n",
       " ('scientist', 1),\n",
       " ('educator', 1),\n",
       " ('other', 1),\n",
       " ('student', 1),\n",
       " ('engineer', 1),\n",
       " ('salesman', 1),\n",
       " ('executive', 1),\n",
       " ('programmer', 1),\n",
       " ('engineer', 1),\n",
       " ('healthcare', 1),\n",
       " ('student', 1),\n",
       " ('administrator', 1),\n",
       " ('programmer', 1),\n",
       " ('other', 1),\n",
       " ('librarian', 1),\n",
       " ('writer', 1),\n",
       " ('artist', 1),\n",
       " ('student', 1),\n",
       " ('lawyer', 1),\n",
       " ('lawyer', 1),\n",
       " ('none', 1),\n",
       " ('marketing', 1),\n",
       " ('marketing', 1),\n",
       " ('none', 1),\n",
       " ('administrator', 1),\n",
       " ('other', 1),\n",
       " ('engineer', 1),\n",
       " ('programmer', 1),\n",
       " ('student', 1),\n",
       " ('other', 1),\n",
       " ('educator', 1),\n",
       " ('doctor', 1),\n",
       " ('student', 1),\n",
       " ('student', 1),\n",
       " ('programmer', 1),\n",
       " ('other', 1),\n",
       " ('technician', 1),\n",
       " ('programmer', 1),\n",
       " ('entertainment', 1),\n",
       " ('artist', 1),\n",
       " ('librarian', 1),\n",
       " ('engineer', 1),\n",
       " ('marketing', 1),\n",
       " ('artist', 1),\n",
       " ('administrator', 1),\n",
       " ('educator', 1),\n",
       " ('student', 1),\n",
       " ('student', 1),\n",
       " ('other', 1),\n",
       " ('educator', 1),\n",
       " ('engineer', 1),\n",
       " ('educator', 1),\n",
       " ('student', 1),\n",
       " ('programmer', 1),\n",
       " ('lawyer', 1),\n",
       " ('artist', 1),\n",
       " ('administrator', 1),\n",
       " ('healthcare', 1),\n",
       " ('other', 1),\n",
       " ('educator', 1),\n",
       " ('other', 1),\n",
       " ('other', 1),\n",
       " ('other', 1),\n",
       " ('healthcare', 1),\n",
       " ('educator', 1),\n",
       " ('marketing', 1),\n",
       " ('other', 1),\n",
       " ('administrator', 1),\n",
       " ('scientist', 1),\n",
       " ('scientist', 1),\n",
       " ('programmer', 1),\n",
       " ('other', 1),\n",
       " ('entertainment', 1),\n",
       " ('administrator', 1),\n",
       " ('executive', 1),\n",
       " ('programmer', 1),\n",
       " ('scientist', 1),\n",
       " ('librarian', 1),\n",
       " ('librarian', 1),\n",
       " ('executive', 1),\n",
       " ('educator', 1),\n",
       " ('student', 1),\n",
       " ('artist', 1),\n",
       " ('administrator', 1),\n",
       " ('administrator', 1),\n",
       " ('educator', 1),\n",
       " ('student', 1),\n",
       " ('administrator', 1),\n",
       " ('scientist', 1),\n",
       " ('writer', 1),\n",
       " ('technician', 1),\n",
       " ('student', 1),\n",
       " ('writer', 1),\n",
       " ('programmer', 1),\n",
       " ('writer', 1),\n",
       " ('educator', 1),\n",
       " ('student', 1),\n",
       " ('librarian', 1),\n",
       " ('lawyer', 1),\n",
       " ('student', 1),\n",
       " ('marketing', 1),\n",
       " ('engineer', 1),\n",
       " ('educator', 1),\n",
       " ('engineer', 1),\n",
       " ('salesman', 1),\n",
       " ('educator', 1),\n",
       " ('executive', 1),\n",
       " ('librarian', 1),\n",
       " ('programmer', 1),\n",
       " ('engineer', 1),\n",
       " ('other', 1),\n",
       " ('administrator', 1),\n",
       " ('programmer', 1),\n",
       " ('librarian', 1),\n",
       " ('student', 1),\n",
       " ('programmer', 1),\n",
       " ('student', 1),\n",
       " ('educator', 1),\n",
       " ('administrator', 1),\n",
       " ('student', 1),\n",
       " ('executive', 1),\n",
       " ('student', 1),\n",
       " ('librarian', 1),\n",
       " ('student', 1),\n",
       " ('librarian', 1),\n",
       " ('scientist', 1),\n",
       " ('engineer', 1),\n",
       " ('retired', 1),\n",
       " ('educator', 1),\n",
       " ('writer', 1),\n",
       " ('administrator', 1),\n",
       " ('administrator', 1),\n",
       " ('artist', 1),\n",
       " ('educator', 1),\n",
       " ('student', 1),\n",
       " ('educator', 1),\n",
       " ('educator', 1),\n",
       " ('technician', 1),\n",
       " ('student', 1),\n",
       " ('student', 1),\n",
       " ('engineer', 1),\n",
       " ('student', 1),\n",
       " ('student', 1),\n",
       " ('executive', 1),\n",
       " ('doctor', 1),\n",
       " ('engineer', 1),\n",
       " ('librarian', 1),\n",
       " ('educator', 1),\n",
       " ('entertainment', 1),\n",
       " ('none', 1),\n",
       " ('student', 1),\n",
       " ('student', 1),\n",
       " ('student', 1),\n",
       " ('artist', 1),\n",
       " ('administrator', 1),\n",
       " ('student', 1),\n",
       " ('programmer', 1),\n",
       " ('writer', 1),\n",
       " ('executive', 1),\n",
       " ('administrator', 1),\n",
       " ('engineer', 1),\n",
       " ('engineer', 1),\n",
       " ('librarian', 1),\n",
       " ('student', 1),\n",
       " ('engineer', 1),\n",
       " ('scientist', 1),\n",
       " ('other', 1),\n",
       " ('student', 1),\n",
       " ('engineer', 1),\n",
       " ('student', 1),\n",
       " ('administrator', 1),\n",
       " ('librarian', 1),\n",
       " ('programmer', 1),\n",
       " ('librarian', 1),\n",
       " ('student', 1),\n",
       " ('administrator', 1),\n",
       " ('programmer', 1),\n",
       " ('executive', 1),\n",
       " ('programmer', 1),\n",
       " ('student', 1),\n",
       " ('salesman', 1),\n",
       " ('marketing', 1),\n",
       " ('none', 1),\n",
       " ('engineer', 1),\n",
       " ('student', 1),\n",
       " ('programmer', 1),\n",
       " ('writer', 1),\n",
       " ('technician', 1),\n",
       " ('educator', 1),\n",
       " ('administrator', 1),\n",
       " ('educator', 1),\n",
       " ('executive', 1),\n",
       " ('doctor', 1),\n",
       " ('programmer', 1),\n",
       " ('student', 1),\n",
       " ('educator', 1),\n",
       " ('student', 1),\n",
       " ('student', 1),\n",
       " ('programmer', 1),\n",
       " ('other', 1),\n",
       " ('student', 1),\n",
       " ('retired', 1),\n",
       " ('scientist', 1),\n",
       " ('educator', 1),\n",
       " ('technician', 1),\n",
       " ('other', 1),\n",
       " ('marketing', 1),\n",
       " ('student', 1),\n",
       " ('educator', 1),\n",
       " ('other', 1),\n",
       " ('administrator', 1),\n",
       " ('retired', 1),\n",
       " ('programmer', 1),\n",
       " ('student', 1),\n",
       " ('educator', 1),\n",
       " ('student', 1),\n",
       " ('student', 1),\n",
       " ('student', 1),\n",
       " ('technician', 1),\n",
       " ('administrator', 1),\n",
       " ('student', 1),\n",
       " ('administrator', 1),\n",
       " ('educator', 1),\n",
       " ('educator', 1),\n",
       " ('entertainment', 1),\n",
       " ('student', 1),\n",
       " ('other', 1),\n",
       " ('librarian', 1),\n",
       " ('executive', 1),\n",
       " ('salesman', 1),\n",
       " ('scientist', 1),\n",
       " ('librarian', 1),\n",
       " ('lawyer', 1),\n",
       " ('engineer', 1),\n",
       " ('student', 1),\n",
       " ('other', 1),\n",
       " ('engineer', 1),\n",
       " ('librarian', 1),\n",
       " ('librarian', 1),\n",
       " ('other', 1),\n",
       " ('student', 1),\n",
       " ('student', 1),\n",
       " ('retired', 1),\n",
       " ('student', 1),\n",
       " ('educator', 1),\n",
       " ('programmer', 1),\n",
       " ('scientist', 1),\n",
       " ('librarian', 1),\n",
       " ('student', 1),\n",
       " ('homemaker', 1),\n",
       " ('executive', 1),\n",
       " ('educator', 1),\n",
       " ('student', 1),\n",
       " ('other', 1),\n",
       " ('student', 1),\n",
       " ('homemaker', 1),\n",
       " ('student', 1),\n",
       " ('engineer', 1),\n",
       " ('lawyer', 1),\n",
       " ('student', 1),\n",
       " ('student', 1),\n",
       " ('student', 1),\n",
       " ('student', 1),\n",
       " ('writer', 1),\n",
       " ('engineer', 1),\n",
       " ('student', 1),\n",
       " ('other', 1),\n",
       " ('executive', 1),\n",
       " ('entertainment', 1),\n",
       " ('other', 1),\n",
       " ('student', 1),\n",
       " ('student', 1),\n",
       " ('programmer', 1),\n",
       " ('engineer', 1),\n",
       " ('artist', 1),\n",
       " ('engineer', 1),\n",
       " ('administrator', 1),\n",
       " ('programmer', 1),\n",
       " ('writer', 1),\n",
       " ('salesman', 1),\n",
       " ('entertainment', 1),\n",
       " ('other', 1),\n",
       " ('writer', 1),\n",
       " ('writer', 1),\n",
       " ('student', 1),\n",
       " ('writer', 1),\n",
       " ('student', 1),\n",
       " ('administrator', 1),\n",
       " ('other', 1),\n",
       " ('engineer', 1),\n",
       " ('student', 1),\n",
       " ('other', 1),\n",
       " ('other', 1),\n",
       " ('administrator', 1),\n",
       " ('healthcare', 1),\n",
       " ('engineer', 1),\n",
       " ('other', 1),\n",
       " ('programmer', 1),\n",
       " ('healthcare', 1),\n",
       " ('educator', 1),\n",
       " ('engineer', 1),\n",
       " ('student', 1),\n",
       " ('administrator', 1),\n",
       " ('artist', 1),\n",
       " ('educator', 1),\n",
       " ('educator', 1),\n",
       " ('educator', 1),\n",
       " ('programmer', 1),\n",
       " ('educator', 1),\n",
       " ('student', 1),\n",
       " ('other', 1),\n",
       " ('none', 1),\n",
       " ('lawyer', 1),\n",
       " ('educator', 1),\n",
       " ('programmer', 1),\n",
       " ('entertainment', 1),\n",
       " ('other', 1),\n",
       " ('marketing', 1),\n",
       " ('student', 1),\n",
       " ('educator', 1),\n",
       " ('doctor', 1),\n",
       " ('student', 1),\n",
       " ('student', 1),\n",
       " ('scientist', 1),\n",
       " ('marketing', 1),\n",
       " ('entertainment', 1),\n",
       " ('artist', 1),\n",
       " ('student', 1),\n",
       " ('engineer', 1),\n",
       " ('administrator', 1),\n",
       " ('other', 1),\n",
       " ('administrator', 1),\n",
       " ('administrator', 1),\n",
       " ('other', 1),\n",
       " ('technician', 1),\n",
       " ('student', 1),\n",
       " ('salesman', 1),\n",
       " ('lawyer', 1),\n",
       " ('writer', 1),\n",
       " ('educator', 1),\n",
       " ('administrator', 1),\n",
       " ('entertainment', 1),\n",
       " ('librarian', 1),\n",
       " ('educator', 1),\n",
       " ('student', 1),\n",
       " ('administrator', 1),\n",
       " ('student', 1),\n",
       " ('other', 1),\n",
       " ('administrator', 1),\n",
       " ('technician', 1),\n",
       " ('salesman', 1),\n",
       " ('technician', 1),\n",
       " ('student', 1),\n",
       " ('other', 1),\n",
       " ('student', 1),\n",
       " ('student', 1),\n",
       " ('healthcare', 1),\n",
       " ('writer', 1),\n",
       " ('other', 1),\n",
       " ('student', 1),\n",
       " ('engineer', 1),\n",
       " ('engineer', 1),\n",
       " ('educator', 1),\n",
       " ('programmer', 1),\n",
       " ('student', 1),\n",
       " ('student', 1),\n",
       " ('student', 1),\n",
       " ('executive', 1),\n",
       " ('programmer', 1),\n",
       " ('student', 1),\n",
       " ('student', 1),\n",
       " ('other', 1),\n",
       " ('educator', 1),\n",
       " ('retired', 1),\n",
       " ('retired', 1),\n",
       " ('student', 1),\n",
       " ('scientist', 1),\n",
       " ('student', 1),\n",
       " ('educator', 1),\n",
       " ('educator', 1),\n",
       " ('engineer', 1),\n",
       " ('technician', 1),\n",
       " ('other', 1),\n",
       " ('artist', 1),\n",
       " ('writer', 1),\n",
       " ('educator', 1),\n",
       " ('engineer', 1),\n",
       " ('administrator', 1),\n",
       " ('engineer', 1),\n",
       " ('student', 1),\n",
       " ('student', 1),\n",
       " ('writer', 1),\n",
       " ('programmer', 1),\n",
       " ('administrator', 1),\n",
       " ('student', 1),\n",
       " ('student', 1),\n",
       " ('writer', 1),\n",
       " ('writer', 1),\n",
       " ('other', 1),\n",
       " ('programmer', 1),\n",
       " ('writer', 1),\n",
       " ('marketing', 1),\n",
       " ('administrator', 1),\n",
       " ('other', 1),\n",
       " ('student', 1),\n",
       " ('other', 1),\n",
       " ('administrator', 1),\n",
       " ('programmer', 1),\n",
       " ('marketing', 1),\n",
       " ('librarian', 1),\n",
       " ('student', 1),\n",
       " ('writer', 1),\n",
       " ('other', 1),\n",
       " ('healthcare', 1),\n",
       " ('student', 1),\n",
       " ('engineer', 1),\n",
       " ('administrator', 1),\n",
       " ('educator', 1),\n",
       " ('administrator', 1),\n",
       " ('marketing', 1),\n",
       " ('librarian', 1),\n",
       " ('student', 1),\n",
       " ('administrator', 1),\n",
       " ('engineer', 1),\n",
       " ('salesman', 1),\n",
       " ('student', 1),\n",
       " ('librarian', 1),\n",
       " ('student', 1),\n",
       " ('educator', 1),\n",
       " ('engineer', 1),\n",
       " ('engineer', 1),\n",
       " ('scientist', 1),\n",
       " ('administrator', 1),\n",
       " ('engineer', 1),\n",
       " ('student', 1),\n",
       " ('student', 1),\n",
       " ('scientist', 1),\n",
       " ('other', 1),\n",
       " ('technician', 1),\n",
       " ('executive', 1),\n",
       " ('educator', 1),\n",
       " ('writer', 1),\n",
       " ('scientist', 1),\n",
       " ('student', 1),\n",
       " ('programmer', 1),\n",
       " ('other', 1),\n",
       " ('educator', 1),\n",
       " ('scientist', 1),\n",
       " ('educator', 1),\n",
       " ('educator', 1),\n",
       " ('writer', 1),\n",
       " ('writer', 1),\n",
       " ('executive', 1),\n",
       " ('student', 1),\n",
       " ('engineer', 1),\n",
       " ('administrator', 1),\n",
       " ('librarian', 1),\n",
       " ('retired', 1),\n",
       " ('student', 1),\n",
       " ('student', 1),\n",
       " ('entertainment', 1),\n",
       " ('educator', 1),\n",
       " ('educator', 1),\n",
       " ('educator', 1),\n",
       " ('artist', 1),\n",
       " ('educator', 1),\n",
       " ('retired', 1),\n",
       " ('educator', 1),\n",
       " ('marketing', 1),\n",
       " ('executive', 1),\n",
       " ('student', 1),\n",
       " ('administrator', 1),\n",
       " ('educator', 1),\n",
       " ('student', 1),\n",
       " ('other', 1),\n",
       " ('student', 1),\n",
       " ('engineer', 1),\n",
       " ('student', 1),\n",
       " ('librarian', 1),\n",
       " ('student', 1),\n",
       " ('other', 1),\n",
       " ('student', 1),\n",
       " ('lawyer', 1),\n",
       " ('educator', 1),\n",
       " ('librarian', 1),\n",
       " ('student', 1),\n",
       " ('educator', 1),\n",
       " ('educator', 1),\n",
       " ('programmer', 1),\n",
       " ('artist', 1),\n",
       " ('other', 1),\n",
       " ('marketing', 1),\n",
       " ('student', 1),\n",
       " ('programmer', 1),\n",
       " ('artist', 1),\n",
       " ('other', 1),\n",
       " ('programmer', 1),\n",
       " ('educator', 1),\n",
       " ('engineer', 1),\n",
       " ('programmer', 1),\n",
       " ('healthcare', 1),\n",
       " ('other', 1),\n",
       " ('student', 1),\n",
       " ('student', 1),\n",
       " ('librarian', 1),\n",
       " ('educator', 1),\n",
       " ('marketing', 1),\n",
       " ('educator', 1),\n",
       " ('educator', 1),\n",
       " ('scientist', 1),\n",
       " ('writer', 1),\n",
       " ('student', 1),\n",
       " ('student', 1),\n",
       " ('writer', 1),\n",
       " ('student', 1),\n",
       " ('programmer', 1),\n",
       " ('educator', 1),\n",
       " ('student', 1),\n",
       " ('programmer', 1),\n",
       " ('scientist', 1),\n",
       " ('engineer', 1),\n",
       " ('none', 1),\n",
       " ('other', 1),\n",
       " ('healthcare', 1),\n",
       " ('student', 1),\n",
       " ('student', 1),\n",
       " ('programmer', 1),\n",
       " ('engineer', 1),\n",
       " ('other', 1),\n",
       " ('educator', 1),\n",
       " ('other', 1),\n",
       " ('engineer', 1),\n",
       " ('librarian', 1),\n",
       " ('student', 1),\n",
       " ('student', 1),\n",
       " ('student', 1),\n",
       " ('scientist', 1),\n",
       " ('retired', 1),\n",
       " ('programmer', 1),\n",
       " ('student', 1),\n",
       " ('educator', 1),\n",
       " ('engineer', 1),\n",
       " ('student', 1),\n",
       " ('engineer', 1),\n",
       " ('retired', 1),\n",
       " ('other', 1),\n",
       " ('executive', 1),\n",
       " ('student', 1),\n",
       " ('healthcare', 1),\n",
       " ('educator', 1),\n",
       " ('none', 1),\n",
       " ('programmer', 1),\n",
       " ('educator', 1),\n",
       " ('student', 1),\n",
       " ('programmer', 1),\n",
       " ('librarian', 1),\n",
       " ('other', 1),\n",
       " ('engineer', 1),\n",
       " ('administrator', 1),\n",
       " ('administrator', 1),\n",
       " ('librarian', 1),\n",
       " ('writer', 1),\n",
       " ('other', 1),\n",
       " ('technician', 1),\n",
       " ('programmer', 1),\n",
       " ('administrator', 1),\n",
       " ('educator', 1),\n",
       " ('student', 1),\n",
       " ('other', 1),\n",
       " ('programmer', 1),\n",
       " ('other', 1),\n",
       " ('educator', 1),\n",
       " ('student', 1),\n",
       " ('lawyer', 1),\n",
       " ('marketing', 1),\n",
       " ('programmer', 1),\n",
       " ('librarian', 1),\n",
       " ('student', 1),\n",
       " ('librarian', 1),\n",
       " ('educator', 1),\n",
       " ('healthcare', 1),\n",
       " ('administrator', 1),\n",
       " ('other', 1),\n",
       " ('salesman', 1),\n",
       " ('educator', 1),\n",
       " ('engineer', 1),\n",
       " ('healthcare', 1),\n",
       " ('programmer', 1),\n",
       " ('writer', 1),\n",
       " ('other', 1),\n",
       " ('other', 1),\n",
       " ('programmer', 1),\n",
       " ('other', 1),\n",
       " ('student', 1),\n",
       " ('librarian', 1),\n",
       " ('other', 1),\n",
       " ('educator', 1),\n",
       " ('librarian', 1),\n",
       " ('student', 1),\n",
       " ('student', 1),\n",
       " ('librarian', 1),\n",
       " ('homemaker', 1),\n",
       " ('other', 1),\n",
       " ('student', 1),\n",
       " ('student', 1),\n",
       " ('student', 1),\n",
       " ('other', 1),\n",
       " ('engineer', 1),\n",
       " ('technician', 1),\n",
       " ('administrator', 1),\n",
       " ('technician', 1),\n",
       " ('technician', 1),\n",
       " ('other', 1),\n",
       " ('administrator', 1),\n",
       " ('entertainment', 1),\n",
       " ('homemaker', 1),\n",
       " ('executive', 1),\n",
       " ('executive', 1),\n",
       " ('student', 1),\n",
       " ('administrator', 1),\n",
       " ('student', 1),\n",
       " ('executive', 1),\n",
       " ('student', 1),\n",
       " ('scientist', 1),\n",
       " ('educator', 1),\n",
       " ('other', 1),\n",
       " ('other', 1),\n",
       " ('other', 1),\n",
       " ('healthcare', 1),\n",
       " ('writer', 1),\n",
       " ('programmer', 1),\n",
       " ('technician', 1),\n",
       " ('technician', 1),\n",
       " ('educator', 1),\n",
       " ('writer', 1),\n",
       " ('student', 1),\n",
       " ('programmer', 1),\n",
       " ('marketing', 1),\n",
       " ('writer', 1),\n",
       " ('engineer', 1),\n",
       " ('other', 1),\n",
       " ('administrator', 1),\n",
       " ('other', 1),\n",
       " ('administrator', 1),\n",
       " ('other', 1),\n",
       " ('retired', 1),\n",
       " ('salesman', 1),\n",
       " ('librarian', 1),\n",
       " ('educator', 1),\n",
       " ('none', 1),\n",
       " ('student', 1),\n",
       " ('student', 1),\n",
       " ('student', 1),\n",
       " ('other', 1),\n",
       " ('student', 1),\n",
       " ('administrator', 1),\n",
       " ('scientist', 1),\n",
       " ('educator', 1),\n",
       " ('student', 1),\n",
       " ('other', 1),\n",
       " ('engineer', 1),\n",
       " ('administrator', 1),\n",
       " ('executive', 1),\n",
       " ('student', 1),\n",
       " ('student', 1),\n",
       " ('writer', 1),\n",
       " ('student', 1),\n",
       " ('student', 1),\n",
       " ('executive', 1),\n",
       " ('librarian', 1),\n",
       " ('programmer', 1),\n",
       " ('student', 1),\n",
       " ('student', 1),\n",
       " ('programmer', 1),\n",
       " ('student', 1),\n",
       " ('artist', 1),\n",
       " ('marketing', 1),\n",
       " ('administrator', 1),\n",
       " ('engineer', 1),\n",
       " ('engineer', 1),\n",
       " ('student', 1),\n",
       " ('administrator', 1),\n",
       " ('other', 1),\n",
       " ('technician', 1),\n",
       " ('educator', 1),\n",
       " ('programmer', 1),\n",
       " ('student', 1),\n",
       " ('educator', 1),\n",
       " ('programmer', 1),\n",
       " ('writer', 1),\n",
       " ('other', 1),\n",
       " ('writer', 1),\n",
       " ('administrator', 1),\n",
       " ('programmer', 1),\n",
       " ('writer', 1),\n",
       " ('administrator', 1),\n",
       " ('administrator', 1),\n",
       " ('educator', 1),\n",
       " ('other', 1),\n",
       " ('marketing', 1),\n",
       " ('healthcare', 1),\n",
       " ('salesman', 1),\n",
       " ('marketing', 1),\n",
       " ('other', 1),\n",
       " ('educator', 1),\n",
       " ('technician', 1),\n",
       " ('student', 1),\n",
       " ('other', 1),\n",
       " ('other', 1),\n",
       " ('other', 1),\n",
       " ('student', 1),\n",
       " ('librarian', 1),\n",
       " ('administrator', 1),\n",
       " ('student', 1),\n",
       " ('engineer', 1),\n",
       " ('librarian', 1),\n",
       " ('artist', 1),\n",
       " ('other', 1),\n",
       " ('engineer', 1),\n",
       " ('artist', 1),\n",
       " ('engineer', 1),\n",
       " ('librarian', 1),\n",
       " ('writer', 1),\n",
       " ('programmer', 1),\n",
       " ('other', 1),\n",
       " ('technician', 1),\n",
       " ('writer', 1),\n",
       " ('other', 1),\n",
       " ('executive', 1),\n",
       " ('artist', 1),\n",
       " ('artist', 1),\n",
       " ('student', 1),\n",
       " ('entertainment', 1),\n",
       " ('artist', 1),\n",
       " ('doctor', 1),\n",
       " ('writer', 1),\n",
       " ('librarian', 1),\n",
       " ('engineer', 1),\n",
       " ('doctor', 1),\n",
       " ('lawyer', 1),\n",
       " ('student', 1),\n",
       " ('engineer', 1),\n",
       " ('student', 1),\n",
       " ('technician', 1),\n",
       " ('other', 1),\n",
       " ('administrator', 1),\n",
       " ('writer', 1),\n",
       " ('student', 1),\n",
       " ('librarian', 1),\n",
       " ('marketing', 1),\n",
       " ('administrator', 1),\n",
       " ('educator', 1),\n",
       " ('other', 1),\n",
       " ('retired', 1),\n",
       " ('student', 1),\n",
       " ('executive', 1),\n",
       " ('student', 1),\n",
       " ('programmer', 1),\n",
       " ('artist', 1),\n",
       " ('other', 1),\n",
       " ('scientist', 1),\n",
       " ('programmer', 1),\n",
       " ('student', 1),\n",
       " ('student', 1),\n",
       " ('executive', 1),\n",
       " ('student', 1),\n",
       " ('administrator', 1),\n",
       " ('scientist', 1),\n",
       " ('student', 1),\n",
       " ('other', 1),\n",
       " ('other', 1),\n",
       " ('educator', 1),\n",
       " ('administrator', 1),\n",
       " ('student', 1),\n",
       " ('marketing', 1),\n",
       " ('engineer', 1),\n",
       " ('librarian', 1),\n",
       " ('engineer', 1),\n",
       " ('other', 1),\n",
       " ('student', 1),\n",
       " ('student', 1),\n",
       " ('scientist', 1),\n",
       " ('technician', 1),\n",
       " ('student', 1),\n",
       " ('administrator', 1),\n",
       " ('other', 1),\n",
       " ('student', 1),\n",
       " ('educator', 1),\n",
       " ('librarian', 1),\n",
       " ('writer', 1),\n",
       " ('other', 1),\n",
       " ('homemaker', 1),\n",
       " ('other', 1),\n",
       " ('retired', 1),\n",
       " ('executive', 1),\n",
       " ('artist', 1),\n",
       " ('educator', 1),\n",
       " ('student', 1),\n",
       " ('other', 1),\n",
       " ('librarian', 1),\n",
       " ('other', 1),\n",
       " ('librarian', 1),\n",
       " ('educator', 1),\n",
       " ('healthcare', 1),\n",
       " ('writer', 1),\n",
       " ('other', 1),\n",
       " ('student', 1),\n",
       " ('other', 1),\n",
       " ('entertainment', 1),\n",
       " ('engineer', 1),\n",
       " ('student', 1),\n",
       " ('scientist', 1),\n",
       " ('other', 1),\n",
       " ('artist', 1),\n",
       " ('student', 1),\n",
       " ('administrator', 1),\n",
       " ('student', 1),\n",
       " ('other', 1),\n",
       " ('salesman', 1),\n",
       " ('entertainment', 1),\n",
       " ('programmer', 1),\n",
       " ('student', 1),\n",
       " ('scientist', 1),\n",
       " ('scientist', 1),\n",
       " ('educator', 1),\n",
       " ('educator', 1),\n",
       " ('student', 1),\n",
       " ('engineer', 1),\n",
       " ('doctor', 1),\n",
       " ('other', 1),\n",
       " ('educator', 1),\n",
       " ('technician', 1),\n",
       " ('student', 1),\n",
       " ('administrator', 1),\n",
       " ('student', 1),\n",
       " ('librarian', 1),\n",
       " ('student', 1)]"
      ]
     },
     "execution_count": 13,
     "metadata": {},
     "output_type": "execute_result"
    }
   ],
   "source": [
    "user_fields.map(lambda fields: (fields[3], 1)).collect()"
   ]
  },
  {
   "cell_type": "code",
   "execution_count": 14,
   "metadata": {
    "collapsed": true
   },
   "outputs": [],
   "source": [
    "count_by_occupation = user_fields.map(lambda fields: (fields[3],1)).reduceByKey(lambda x, y: x + y).collect()"
   ]
  },
  {
   "cell_type": "code",
   "execution_count": 15,
   "metadata": {},
   "outputs": [
    {
     "data": {
      "text/plain": [
       "[('other', 105),\n",
       " ('executive', 32),\n",
       " ('administrator', 79),\n",
       " ('student', 196),\n",
       " ('educator', 95),\n",
       " ('programmer', 66),\n",
       " ('homemaker', 7),\n",
       " ('artist', 28),\n",
       " ('engineer', 67),\n",
       " ('none', 9),\n",
       " ('retired', 14),\n",
       " ('doctor', 7),\n",
       " ('technician', 27),\n",
       " ('writer', 45),\n",
       " ('lawyer', 12),\n",
       " ('scientist', 31),\n",
       " ('entertainment', 18),\n",
       " ('librarian', 51),\n",
       " ('marketing', 26),\n",
       " ('healthcare', 16),\n",
       " ('salesman', 12)]"
      ]
     },
     "execution_count": 15,
     "metadata": {},
     "output_type": "execute_result"
    }
   ],
   "source": [
    "count_by_occupation"
   ]
  },
  {
   "cell_type": "code",
   "execution_count": 16,
   "metadata": {},
   "outputs": [
    {
     "data": {
      "text/plain": [
       "(array([ 0,  1,  2,  3,  4,  5,  6,  7,  8,  9, 10, 11, 12, 13, 14, 15, 16,\n",
       "        17, 18, 19, 20]), <a list of 21 Text xticklabel objects>)"
      ]
     },
     "execution_count": 16,
     "metadata": {},
     "output_type": "execute_result"
    },
    {
     "data": {
      "image/png": "[encoded data removed]",
      "text/plain": [
       "<matplotlib.figure.Figure at 0x1165c8400>"
      ]
     },
     "metadata": {},
     "output_type": "display_data"
    }
   ],
   "source": [
    "x_axis1 = np.array([c[0] for c in count_by_occupation])\n",
    "y_axis1 = np.array([c[1] for c in count_by_occupation])\n",
    "x_axis = x_axis1[np.argsort(y_axis1)]\n",
    "y_axis = y_axis1[np.argsort(y_axis1)]\n",
    "\n",
    "pos = np.arange(len(x_axis))\n",
    "width = 1.0\n",
    "\n",
    "sns.barplot(x=x_axis, y=y_axis)\n",
    "plt.xticks(rotation=90)"
   ]
  },
  {
   "cell_type": "code",
   "execution_count": 18,
   "metadata": {
    "collapsed": true
   },
   "outputs": [],
   "source": [
    "count_by_occupation2 = user_fields.map(lambda x: x[3]).countByValue()"
   ]
  },
  {
   "cell_type": "code",
   "execution_count": 19,
   "metadata": {
    "collapsed": true
   },
   "outputs": [],
   "source": [
    "count_by_sex = user_fields.map(lambda x: x[2]).countByValue()"
   ]
  },
  {
   "cell_type": "code",
   "execution_count": 20,
   "metadata": {},
   "outputs": [
    {
     "data": {
      "text/plain": [
       "collections.defaultdict"
      ]
     },
     "execution_count": 20,
     "metadata": {},
     "output_type": "execute_result"
    }
   ],
   "source": [
    "type(count_by_sex)"
   ]
  },
  {
   "cell_type": "code",
   "execution_count": 21,
   "metadata": {},
   "outputs": [
    {
     "data": {
      "text/plain": [
       "<matplotlib.axes._subplots.AxesSubplot at 0x1167bea20>"
      ]
     },
     "execution_count": 21,
     "metadata": {},
     "output_type": "execute_result"
    },
    {
     "data": {
      "image/png": "[encoded data removed]",
      "text/plain": [
       "<matplotlib.figure.Figure at 0x1166350b8>"
      ]
     },
     "metadata": {},
     "output_type": "display_data"
    }
   ],
   "source": [
    "x = list(count_by_sex.keys())\n",
    "y = list(count_by_sex.values())\n",
    "sns.barplot(x=x ,y=y)"
   ]
  },
  {
   "cell_type": "code",
   "execution_count": 22,
   "metadata": {},
   "outputs": [
    {
     "data": {
      "text/plain": [
       "/Users/dzzxjl/data/ml-100k/u.item MapPartitionsRDD[31] at textFile at NativeMethodAccessorImpl.java:0"
      ]
     },
     "execution_count": 22,
     "metadata": {},
     "output_type": "execute_result"
    }
   ],
   "source": [
    "# 分析电影数据\n",
    "movie_data = sc.textFile('/Users/dzzxjl/data/ml-100k/u.item')\n",
    "# 从文件读取获得RDD文件\n",
    "movie_data"
   ]
  },
  {
   "cell_type": "code",
   "execution_count": 23,
   "metadata": {},
   "outputs": [
    {
     "data": {
      "text/plain": [
       "'1|Toy Story (1995)|01-Jan-1995||http://us.imdb.com/M/title-exact?Toy%20Story%20(1995)|0|0|0|1|1|1|0|0|0|0|0|0|0|0|0|0|0|0|0'"
      ]
     },
     "execution_count": 23,
     "metadata": {},
     "output_type": "execute_result"
    }
   ],
   "source": [
    "# 显示第一条数据\n",
    "movie_data.first()"
   ]
  },
  {
   "cell_type": "code",
   "execution_count": 24,
   "metadata": {},
   "outputs": [
    {
     "data": {
      "text/plain": [
       "1682"
      ]
     },
     "execution_count": 24,
     "metadata": {},
     "output_type": "execute_result"
    }
   ],
   "source": [
    "# 显示电影总数\n",
    "movie_data.count()"
   ]
  },
  {
   "cell_type": "code",
   "execution_count": 26,
   "metadata": {},
   "outputs": [],
   "source": [
    "# 查看电影发行日期\n",
    "# 因为部分行不满足函数内的条件，因此会报错\n",
    "# movie_data.map(lambda x: x.split('|')[2].split('-')[1]).collect()"
   ]
  },
  {
   "cell_type": "code",
   "execution_count": 27,
   "metadata": {},
   "outputs": [],
   "source": [
    "def convert_year(date):\n",
    "    try:\n",
    "#         date.split('-')[2] = int(date.split('-')[2])\n",
    "#         int(date.split('-')[2])\n",
    "        return int(date.split('-')[2])\n",
    "    except:\n",
    "        return 1900\n",
    "\n",
    "# print(convert_year('01-Jan-1995'))"
   ]
  },
  {
   "cell_type": "code",
   "execution_count": 29,
   "metadata": {},
   "outputs": [
    {
     "data": {
      "text/plain": [
       "PythonRDD[35] at RDD at PythonRDD.scala:48"
      ]
     },
     "execution_count": 29,
     "metadata": {},
     "output_type": "execute_result"
    }
   ],
   "source": [
    "\n",
    "# 数据过多，导致不容易绘图，因此仅筛选1980年之后的年份\n",
    "movie_years = movie_data.map(lambda x: x.split('|')[2]).map(lambda date: convert_year(date)).filter(lambda x: x>1980)\n",
    "movie_years"
   ]
  },
  {
   "cell_type": "code",
   "execution_count": 30,
   "metadata": {
    "collapsed": true
   },
   "outputs": [],
   "source": [
    "movie_ages = movie_years.map(lambda x: (x, 1)).reduceByKey(lambda x, y: x + y).sortByKey()"
   ]
  },
  {
   "cell_type": "code",
   "execution_count": 45,
   "metadata": {},
   "outputs": [],
   "source": [
    "years = movie_ages.keys().collect()\n",
    "years_new = []\n",
    "for x in years:\n",
    "    years_new.append(str(x))\n",
    "years_count = movie_ages.values().collect()\n",
    "years_new = tuple(years_new)"
   ]
  },
  {
   "cell_type": "code",
   "execution_count": 51,
   "metadata": {},
   "outputs": [
    {
     "data": {
      "text/plain": [
       "tuple"
      ]
     },
     "execution_count": 51,
     "metadata": {},
     "output_type": "execute_result"
    }
   ],
   "source": [
    "type(years_new)"
   ]
  },
  {
   "cell_type": "code",
   "execution_count": 66,
   "metadata": {},
   "outputs": [
    {
     "data": {
      "text/plain": [
       "<matplotlib.text.Text at 0x1186dd0b8>"
      ]
     },
     "execution_count": 66,
     "metadata": {},
     "output_type": "execute_result"
    },
    {
     "data": {
      "image/png": "[encoded data removed]",
      "text/plain": [
       "<matplotlib.figure.Figure at 0x1186c1cc0>"
      ]
     },
     "metadata": {},
     "output_type": "display_data"
    }
   ],
   "source": [
    "fig, ax = plt.subplots()\n",
    "# ax.bar()\n",
    "y_pos = np.arange(len(years_new))\n",
    "ax.set_yticks(y_pos)\n",
    "ax.set_yticklabels(years_new)\n",
    "ax.invert_yaxis()  # labels read top-to-bottom\n",
    "\n",
    "ax.barh(y_pos, years_count,  align='center',\n",
    "        color='green', ecolor='black')\n",
    "ax.set_xlabel('Film quantity')\n",
    "# plt.xticks(rotation=90)"
   ]
  },
  {
   "cell_type": "code",
   "execution_count": 68,
   "metadata": {},
   "outputs": [
    {
     "data": {
      "text/plain": [
       "'1|Toy Story (1995)|01-Jan-1995||http://us.imdb.com/M/title-exact?Toy%20Story%20(1995)|0|0|0|1|1|1|0|0|0|0|0|0|0|0|0|0|0|0|0'"
      ]
     },
     "execution_count": 68,
     "metadata": {},
     "output_type": "execute_result"
    }
   ],
   "source": [
    "movie_data.first()"
   ]
  },
  {
   "cell_type": "code",
   "execution_count": 139,
   "metadata": {},
   "outputs": [],
   "source": [
    "# 统计最多出现的词汇\n",
    "# movie_data.map(lambda x: x.split('|')[1]).map(lambda x: x.split(' ')).collect()\n",
    "# movie_data.map(lambda x: x.split('|')[1]).flatMap(lambda x: x.split(' ')).collect()\n",
    "temp1 = movie_data.map(lambda x: x.split('|')[1]).flatMap(lambda x: x.split(' ')).map(lambda x: (x,1))\n",
    "\n",
    "\n",
    "temp2 = temp1.reduceByKey(lambda x, y: x+y)\n",
    "\n",
    "temp3 = temp2.map(lambda x: (x[1],x[0])).sortByKey(False)\n",
    "\n",
    "words = ['The', 'the', 'of', 'and', 'in', 'A', 'a', 'to', '&', 'on', 'de', 'In', 'for']\n",
    "num = '19'\n",
    "temp4 = temp3.filter(lambda x: x[0] > 10).filter(lambda x:x[1] not in words).filter(lambda x:num not in x[1]).collect()"
   ]
  },
  {
   "cell_type": "code",
   "execution_count": 140,
   "metadata": {},
   "outputs": [
    {
     "data": {
      "text/plain": [
       "[(27, 'Love'),\n",
       " (23, 'Man'),\n",
       " (22, 'My'),\n",
       " (18, 'Life'),\n",
       " (13, 'Star'),\n",
       " (13, 'Night'),\n",
       " (13, 'I'),\n",
       " (13, 'Time'),\n",
       " (12, 'Dead'),\n",
       " (12, 'It'),\n",
       " (12, 'Day'),\n",
       " (11, 'Last'),\n",
       " (11, 'Big')]"
      ]
     },
     "execution_count": 140,
     "metadata": {},
     "output_type": "execute_result"
    }
   ],
   "source": [
    "temp4"
   ]
  },
  {
   "cell_type": "code",
   "execution_count": 141,
   "metadata": {},
   "outputs": [
    {
     "data": {
      "image/png": "[encoded data removed]",
      "text/plain": [
       "<matplotlib.figure.Figure at 0x11936d630>"
      ]
     },
     "metadata": {},
     "output_type": "display_data"
    }
   ],
   "source": [
    "\n",
    "def huabingtu(map):\n",
    "    labels = []\n",
    "    sizes = []\n",
    "    for x in map:\n",
    "#         labels.append(x)\n",
    "#         sizes.append(map[x])\n",
    "        labels.append(x[1])\n",
    "        sizes.append(x[0])\n",
    "    fig1, ax1 = plt.subplots()\n",
    "    ax1.pie(sizes, labels=labels, autopct='%1.1f%%',\n",
    "            shadow=True, startangle=90)\n",
    "    ax1.axis('equal')  # Equal aspect ratio ensures that pie is drawn as a circle.\n",
    "\n",
    "    plt.show()\n",
    "    \n",
    "huabingtu(temp4)"
   ]
  },
  {
   "cell_type": "code",
   "execution_count": 142,
   "metadata": {},
   "outputs": [
    {
     "data": {
      "text/plain": [
       "'1|Toy Story (1995)|01-Jan-1995||http://us.imdb.com/M/title-exact?Toy%20Story%20(1995)|0|0|0|1|1|1|0|0|0|0|0|0|0|0|0|0|0|0|0'"
      ]
     },
     "execution_count": 142,
     "metadata": {},
     "output_type": "execute_result"
    }
   ],
   "source": [
    "movie_data.first()"
   ]
  },
  {
   "cell_type": "code",
   "execution_count": null,
   "metadata": {
    "collapsed": true
   },
   "outputs": [],
   "source": []
  },
  {
   "cell_type": "code",
   "execution_count": null,
   "metadata": {
    "collapsed": true
   },
   "outputs": [],
   "source": []
  },
  {
   "cell_type": "code",
   "execution_count": null,
   "metadata": {
    "collapsed": true
   },
   "outputs": [],
   "source": []
  }
 ],
 "metadata": {
  "kernelspec": {
   "display_name": "Python 3",
   "language": "python",
   "name": "python3"
  },
  "language_info": {
   "codemirror_mode": {
    "name": "ipython",
    "version": 3
   },
   "file_extension": ".py",
   "mimetype": "text/x-python",
   "name": "python",
   "nbconvert_exporter": "python",
   "pygments_lexer": "ipython3",
   "version": "3.6.1"
  }
 },
 "nbformat": 4,
 "nbformat_minor": 2
}
