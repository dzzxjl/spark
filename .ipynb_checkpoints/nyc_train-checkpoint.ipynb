{
 "cells": [
  {
   "cell_type": "code",
   "execution_count": 1,
   "metadata": {
    "collapsed": true
   },
   "outputs": [],
   "source": [
    "# Spark\n",
    "import pyspark\n",
    "# from pyspark import SparkConf,SparkContext\n",
    "# try:\n",
    "#     sc.stop()\n",
    "# except:\n",
    "#     pass\n",
    "# conf = SparkConf().setMaster('local[2]').setAppName('MyApp')\n",
    "# sc = SparkContext(conf=conf).getOrCreate()\n",
    "# # Visaulization\n",
    "import matplotlib.pyplot as plt\n",
    "import seaborn as sns"
   ]
  },
  {
   "cell_type": "code",
   "execution_count": 2,
   "metadata": {},
   "outputs": [
    {
     "data": {
      "text/html": [
       "\n",
       "        <div>\n",
       "            <p><b>SparkContext</b></p>\n",
       "\n",
       "            <p><a href=\"http://10.164.22.7:4040\">Spark UI</a></p>\n",
       "\n",
       "            <dl>\n",
       "              <dt>Version</dt>\n",
       "                <dd><code>v2.2.0</code></dd>\n",
       "              <dt>Master</dt>\n",
       "                <dd><code>local[*]</code></dd>\n",
       "              <dt>AppName</dt>\n",
       "                <dd><code>PySparkShell</code></dd>\n",
       "            </dl>\n",
       "        </div>\n",
       "        "
      ],
      "text/plain": [
       "<SparkContext master=local[*] appName=PySparkShell>"
      ]
     },
     "execution_count": 2,
     "metadata": {},
     "output_type": "execute_result"
    }
   ],
   "source": [
    "sc"
   ]
  },
  {
   "cell_type": "code",
   "execution_count": 3,
   "metadata": {},
   "outputs": [],
   "source": [
    "data = sc.textFile('/Users/dzzxjl/data/NYC/train.csv')"
   ]
  },
  {
   "cell_type": "code",
   "execution_count": 4,
   "metadata": {},
   "outputs": [
    {
     "data": {
      "text/plain": [
       "'id,vendor_id,pickup_datetime,dropoff_datetime,passenger_count,pickup_longitude,pickup_latitude,dropoff_longitude,dropoff_latitude,store_and_fwd_flag,trip_duration'"
      ]
     },
     "execution_count": 4,
     "metadata": {},
     "output_type": "execute_result"
    }
   ],
   "source": [
    "data.first()"
   ]
  },
  {
   "cell_type": "code",
   "execution_count": 5,
   "metadata": {},
   "outputs": [
    {
     "data": {
      "text/plain": [
       "['id,vendor_id,pickup_datetime,dropoff_datetime,passenger_count,pickup_longitude,pickup_latitude,dropoff_longitude,dropoff_latitude,store_and_fwd_flag,trip_duration',\n",
       " 'id2875421,2,2016-03-14 17:24:55,2016-03-14 17:32:30,1,-73.982154846191406,40.767936706542969,-73.964630126953125,40.765602111816406,N,455',\n",
       " 'id2377394,1,2016-06-12 00:43:35,2016-06-12 00:54:38,1,-73.980415344238281,40.738563537597656,-73.999481201171875,40.731151580810547,N,663',\n",
       " 'id3858529,2,2016-01-19 11:35:24,2016-01-19 12:10:48,1,-73.979026794433594,40.763938903808594,-74.005332946777344,40.710086822509766,N,2124',\n",
       " 'id3504673,2,2016-04-06 19:32:31,2016-04-06 19:39:40,1,-74.010040283203125,40.719970703125,-74.01226806640625,40.706718444824219,N,429']"
      ]
     },
     "execution_count": 5,
     "metadata": {},
     "output_type": "execute_result"
    }
   ],
   "source": [
    "data.take(5)"
   ]
  },
  {
   "cell_type": "code",
   "execution_count": 6,
   "metadata": {},
   "outputs": [
    {
     "data": {
      "text/plain": [
       "1458645"
      ]
     },
     "execution_count": 6,
     "metadata": {},
     "output_type": "execute_result"
    }
   ],
   "source": [
    "data.count()"
   ]
  },
  {
   "cell_type": "code",
   "execution_count": 13,
   "metadata": {
    "collapsed": true
   },
   "outputs": [],
   "source": [
    "# 因为数据组织呈结构化，将数据读取成DataFrame\n",
    "df = spark.read.format(\"csv\").option(\"header\",\"true\").csv('/Users/dzzxjl/data/NYC/train.csv')"
   ]
  },
  {
   "cell_type": "code",
   "execution_count": 14,
   "metadata": {},
   "outputs": [
    {
     "name": "stdout",
     "output_type": "stream",
     "text": [
      "+---------+---------+-------------------+-------------------+---------------+-------------------+------------------+-------------------+------------------+------------------+-------------+\n",
      "|       id|vendor_id|    pickup_datetime|   dropoff_datetime|passenger_count|   pickup_longitude|   pickup_latitude|  dropoff_longitude|  dropoff_latitude|store_and_fwd_flag|trip_duration|\n",
      "+---------+---------+-------------------+-------------------+---------------+-------------------+------------------+-------------------+------------------+------------------+-------------+\n",
      "|id2875421|        2|2016-03-14 17:24:55|2016-03-14 17:32:30|              1|-73.982154846191406|40.767936706542969|-73.964630126953125|40.765602111816406|                 N|          455|\n",
      "|id2377394|        1|2016-06-12 00:43:35|2016-06-12 00:54:38|              1|-73.980415344238281|40.738563537597656|-73.999481201171875|40.731151580810547|                 N|          663|\n",
      "|id3858529|        2|2016-01-19 11:35:24|2016-01-19 12:10:48|              1|-73.979026794433594|40.763938903808594|-74.005332946777344|40.710086822509766|                 N|         2124|\n",
      "|id3504673|        2|2016-04-06 19:32:31|2016-04-06 19:39:40|              1|-74.010040283203125|   40.719970703125| -74.01226806640625|40.706718444824219|                 N|          429|\n",
      "|id2181028|        2|2016-03-26 13:30:55|2016-03-26 13:38:10|              1|-73.973052978515625|40.793209075927734|-73.972923278808594|40.782520294189453|                 N|          435|\n",
      "|id0801584|        2|2016-01-30 22:01:40|2016-01-30 22:09:03|              6|-73.982856750488281|40.742195129394531|-73.992080688476562|40.749183654785156|                 N|          443|\n",
      "|id1813257|        1|2016-06-17 22:34:59|2016-06-17 22:40:40|              4|-73.969017028808594|40.757839202880859|-73.957405090332031|40.765895843505859|                 N|          341|\n",
      "|id1324603|        2|2016-05-21 07:54:58|2016-05-21 08:20:49|              1|-73.969276428222656|40.797779083251953|-73.922470092773438| 40.76055908203125|                 N|         1551|\n",
      "|id1301050|        1|2016-05-27 23:12:23|2016-05-27 23:16:38|              1|-73.999481201171875|40.738399505615234|-73.985786437988281|40.732814788818359|                 N|          255|\n",
      "|id0012891|        2|2016-03-10 21:45:01|2016-03-10 22:05:26|              1|-73.981048583984375|40.744338989257813|-73.972999572753906|40.789989471435547|                 N|         1225|\n",
      "|id1436371|        2|2016-05-10 22:08:41|2016-05-10 22:29:55|              1|-73.982650756835938|40.763839721679688|-74.002227783203125|40.732990264892578|                 N|         1274|\n",
      "|id1299289|        2|2016-05-15 11:16:11|2016-05-15 11:34:59|              4|-73.991531372070313|40.749439239501953|    -73.95654296875|  40.7706298828125|                 N|         1128|\n",
      "|id1187965|        2|2016-02-19 09:52:46|2016-02-19 10:11:20|              2|-73.962982177734375|40.756679534912109|-73.984405517578125|40.760719299316406|                 N|         1114|\n",
      "|id0799785|        2|2016-06-01 20:58:29|2016-06-01 21:02:49|              1|-73.956306457519531|40.767940521240234|-73.966110229492188| 40.76300048828125|                 N|          260|\n",
      "|id2900608|        2|2016-05-27 00:43:36|2016-05-27 01:07:10|              1|-73.992195129394531|40.727226257324219|-73.974655151367188|40.783069610595703|                 N|         1414|\n",
      "|id3319787|        1|2016-05-16 15:29:02|2016-05-16 15:32:33|              1|-73.955513000488281|40.768592834472656|-73.948760986328125| 40.77154541015625|                 N|          211|\n",
      "|id3379579|        2|2016-04-11 17:29:50|2016-04-11 18:08:26|              1|-73.991165161132813|40.755561828613281|-73.999290466308594|40.725353240966797|                 N|         2316|\n",
      "|id1154431|        1|2016-04-14 08:48:26|2016-04-14 09:00:37|              1|-73.994255065917969|40.745803833007813|-73.999656677246094|40.723342895507813|                 N|          731|\n",
      "|id3552682|        1|2016-06-27 09:55:13|2016-06-27 10:17:10|              1|-74.003982543945313|  40.7130126953125|-73.979194641113281|40.749923706054688|                 N|         1317|\n",
      "|id3390316|        2|2016-06-05 13:47:23|2016-06-05 13:51:34|              1|    -73.98388671875|40.738197326660156|-73.991203308105469|40.727870941162109|                 N|          251|\n",
      "+---------+---------+-------------------+-------------------+---------------+-------------------+------------------+-------------------+------------------+------------------+-------------+\n",
      "only showing top 20 rows\n",
      "\n"
     ]
    }
   ],
   "source": [
    "# 显示top20数据\n",
    "df.show()"
   ]
  },
  {
   "cell_type": "code",
   "execution_count": 43,
   "metadata": {},
   "outputs": [
    {
     "data": {
      "text/plain": [
       "1458644"
      ]
     },
     "execution_count": 43,
     "metadata": {},
     "output_type": "execute_result"
    }
   ],
   "source": [
    "# 显示数目总数\n",
    "df.count()"
   ]
  },
  {
   "cell_type": "code",
   "execution_count": 16,
   "metadata": {},
   "outputs": [
    {
     "data": {
      "text/plain": [
       "Row(id='id2875421', vendor_id='2', pickup_datetime='2016-03-14 17:24:55', dropoff_datetime='2016-03-14 17:32:30', passenger_count='1', pickup_longitude='-73.982154846191406', pickup_latitude='40.767936706542969', dropoff_longitude='-73.964630126953125', dropoff_latitude='40.765602111816406', store_and_fwd_flag='N', trip_duration='455')"
      ]
     },
     "execution_count": 16,
     "metadata": {},
     "output_type": "execute_result"
    }
   ],
   "source": [
    "df.head()"
   ]
  },
  {
   "cell_type": "code",
   "execution_count": 44,
   "metadata": {},
   "outputs": [
    {
     "name": "stdout",
     "output_type": "stream",
     "text": [
      "root\n",
      " |-- id: string (nullable = true)\n",
      " |-- vendor_id: string (nullable = true)\n",
      " |-- pickup_datetime: string (nullable = true)\n",
      " |-- dropoff_datetime: string (nullable = true)\n",
      " |-- passenger_count: string (nullable = true)\n",
      " |-- pickup_longitude: string (nullable = true)\n",
      " |-- pickup_latitude: string (nullable = true)\n",
      " |-- dropoff_longitude: string (nullable = true)\n",
      " |-- dropoff_latitude: string (nullable = true)\n",
      " |-- store_and_fwd_flag: string (nullable = true)\n",
      " |-- trip_duration: string (nullable = true)\n",
      "\n"
     ]
    }
   ],
   "source": [
    "df.printSchema()"
   ]
  },
  {
   "cell_type": "code",
   "execution_count": 25,
   "metadata": {},
   "outputs": [
    {
     "name": "stdout",
     "output_type": "stream",
     "text": [
      "+---------+------+\n",
      "|vendor_id| count|\n",
      "+---------+------+\n",
      "|        1|678342|\n",
      "|        2|780302|\n",
      "+---------+------+\n",
      "\n"
     ]
    }
   ],
   "source": [
    "# 数据提供商\n",
    "df.groupBy(\"vendor_id\").count().show()"
   ]
  },
  {
   "cell_type": "code",
   "execution_count": 45,
   "metadata": {},
   "outputs": [
    {
     "name": "stdout",
     "output_type": "stream",
     "text": [
      "+---------+-------------------+\n",
      "|       id|    pickup_datetime|\n",
      "+---------+-------------------+\n",
      "|id2875421|2016-03-14 17:24:55|\n",
      "|id2377394|2016-06-12 00:43:35|\n",
      "|id3858529|2016-01-19 11:35:24|\n",
      "|id3504673|2016-04-06 19:32:31|\n",
      "|id2181028|2016-03-26 13:30:55|\n",
      "+---------+-------------------+\n",
      "only showing top 5 rows\n",
      "\n"
     ]
    }
   ],
   "source": [
    "df.select(['id', 'pickup_datetime']).show(n=5)"
   ]
  },
  {
   "cell_type": "code",
   "execution_count": 46,
   "metadata": {},
   "outputs": [
    {
     "name": "stdout",
     "output_type": "stream",
     "text": [
      "+-------+---------+------------------+-------------------+-------------------+------------------+-------------------+-------------------+-------------------+-------------------+------------------+-----------------+\n",
      "|summary|       id|         vendor_id|    pickup_datetime|   dropoff_datetime|   passenger_count|   pickup_longitude|    pickup_latitude|  dropoff_longitude|   dropoff_latitude|store_and_fwd_flag|    trip_duration|\n",
      "+-------+---------+------------------+-------------------+-------------------+------------------+-------------------+-------------------+-------------------+-------------------+------------------+-----------------+\n",
      "|  count|  1458644|           1458644|            1458644|            1458644|           1458644|            1458644|            1458644|            1458644|            1458644|           1458644|          1458644|\n",
      "|   mean|     null|1.5349502688798637|               null|               null|1.6645295219395548| -73.97348630489282| 40.750920908391734|  -73.9734159469458|   40.7517995149002|              null|959.4922729603659|\n",
      "| stddev|     null|0.4987771539074017|               null|               null|  1.31424216782312| 0.0709018584227037|0.03288118625763338| 0.0706432680972028|0.03589055560563534|              null|5237.431724497609|\n",
      "|    min|id0000001|                 1|2016-01-01 00:00:17|2016-01-01 00:03:31|                 0|-121.93323516845703| 34.359695434570312|-121.93320465087891| 32.181140899658203|                 N|                1|\n",
      "|    max|id4000000|                 2|2016-06-30 23:59:39|2016-07-01 23:02:03|                 9|-79.569732666015625| 51.881084442138672|-80.355430603027344| 43.921028137207031|                 Y|              999|\n",
      "+-------+---------+------------------+-------------------+-------------------+------------------+-------------------+-------------------+-------------------+-------------------+------------------+-----------------+\n",
      "\n"
     ]
    }
   ],
   "source": [
    "df.describe().show()"
   ]
  },
  {
   "cell_type": "code",
   "execution_count": 56,
   "metadata": {},
   "outputs": [
    {
     "data": {
      "text/plain": [
       "Column<b'pickup_datetime'>"
      ]
     },
     "execution_count": 56,
     "metadata": {},
     "output_type": "execute_result"
    }
   ],
   "source": [
    "df.pickup_datetime"
   ]
  },
  {
   "cell_type": "code",
   "execution_count": 41,
   "metadata": {},
   "outputs": [
    {
     "name": "stdout",
     "output_type": "stream",
     "text": [
      "Row(pickup_datetime='2016-06-30 23:59:39')\n",
      "Row(pickup_datetime='2016-06-30 23:59:37')\n",
      "Row(pickup_datetime='2016-06-30 23:59:10')\n",
      "Row(pickup_datetime='2016-06-30 23:59:09')\n",
      "Row(pickup_datetime='2016-06-30 23:58:52')\n"
     ]
    }
   ],
   "source": [
    "pickup_datetime = df.select(['pickup_datetime'])\n",
    "# temp = pickup_datetime.rdd.map(lambda x: x).top(5)\n",
    "# for x in temp:\n",
    "#     print(x)\n",
    "\n",
    "df.withColumn('month', df. + 2).collect()"
   ]
  },
  {
   "cell_type": "code",
   "execution_count": 19,
   "metadata": {
    "collapsed": true
   },
   "outputs": [],
   "source": [
    "# 我们也可以把DataFrame对象转化为一个虚拟的表，然后用SQL语句查询\n",
    "df.registerTempTable('data')"
   ]
  },
  {
   "cell_type": "code",
   "execution_count": 34,
   "metadata": {},
   "outputs": [],
   "source": [
    "# 使用sql语句进行查询操作\n",
    "pickup_datetime = sqlContext.sql('select id, pickup_datetime from data limit 10')"
   ]
  },
  {
   "cell_type": "code",
   "execution_count": 20,
   "metadata": {},
   "outputs": [
    {
     "name": "stdout",
     "output_type": "stream",
     "text": [
      "+---------+---------+-------------------+-------------------+---------------+-------------------+------------------+-------------------+------------------+------------------+-------------+\n",
      "|       id|vendor_id|    pickup_datetime|   dropoff_datetime|passenger_count|   pickup_longitude|   pickup_latitude|  dropoff_longitude|  dropoff_latitude|store_and_fwd_flag|trip_duration|\n",
      "+---------+---------+-------------------+-------------------+---------------+-------------------+------------------+-------------------+------------------+------------------+-------------+\n",
      "|id2377394|        1|2016-06-12 00:43:35|2016-06-12 00:54:38|              1|-73.980415344238281|40.738563537597656|-73.999481201171875|40.731151580810547|                 N|          663|\n",
      "|id3858529|        2|2016-01-19 11:35:24|2016-01-19 12:10:48|              1|-73.979026794433594|40.763938903808594|-74.005332946777344|40.710086822509766|                 N|         2124|\n",
      "|id1324603|        2|2016-05-21 07:54:58|2016-05-21 08:20:49|              1|-73.969276428222656|40.797779083251953|-73.922470092773438| 40.76055908203125|                 N|         1551|\n",
      "|id0012891|        2|2016-03-10 21:45:01|2016-03-10 22:05:26|              1|-73.981048583984375|40.744338989257813|-73.972999572753906|40.789989471435547|                 N|         1225|\n",
      "|id1436371|        2|2016-05-10 22:08:41|2016-05-10 22:29:55|              1|-73.982650756835938|40.763839721679688|-74.002227783203125|40.732990264892578|                 N|         1274|\n",
      "+---------+---------+-------------------+-------------------+---------------+-------------------+------------------+-------------------+------------------+------------------+-------------+\n",
      "only showing top 5 rows\n",
      "\n"
     ]
    }
   ],
   "source": [
    "df.filter(df['trip_duration'] > 500).show(n=5)"
   ]
  },
  {
   "cell_type": "code",
   "execution_count": 36,
   "metadata": {
    "collapsed": true
   },
   "outputs": [],
   "source": [
    "# data['pickup_longitude'].top()\n",
    "longitude = data.select('pickup_longitude').collect()\n",
    "latitude = data.select('pickup_latitude').collect()"
   ]
  },
  {
   "cell_type": "code",
   "execution_count": 2,
   "metadata": {
    "collapsed": true
   },
   "outputs": [],
   "source": [
    "sc.stop()"
   ]
  },
  {
   "cell_type": "code",
   "execution_count": null,
   "metadata": {
    "collapsed": true
   },
   "outputs": [],
   "source": []
  }
 ],
 "metadata": {
  "kernelspec": {
   "display_name": "Python 3",
   "language": "python",
   "name": "python3"
  },
  "language_info": {
   "codemirror_mode": {
    "name": "ipython",
    "version": 3
   },
   "file_extension": ".py",
   "mimetype": "text/x-python",
   "name": "python",
   "nbconvert_exporter": "python",
   "pygments_lexer": "ipython3",
   "version": "3.6.1"
  }
 },
 "nbformat": 4,
 "nbformat_minor": 2
}
